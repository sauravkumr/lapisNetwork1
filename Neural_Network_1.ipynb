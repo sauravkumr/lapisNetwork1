{
  "nbformat": 4,
  "nbformat_minor": 0,
  "metadata": {
    "colab": {
      "name": "Neural Network #1.ipynb",
      "provenance": [],
      "collapsed_sections": []
    },
    "kernelspec": {
      "name": "python3",
      "display_name": "Python 3"
    },
    "language_info": {
      "name": "python"
    },
    "accelerator": "GPU"
  },
  "cells": [
    {
      "cell_type": "markdown",
      "metadata": {
        "id": "ifVX41WRal8J"
      },
      "source": [
        "#Data"
      ]
    },
    {
      "cell_type": "code",
      "metadata": {
        "id": "9Osj9udBbjWx"
      },
      "source": [
        "import numpy as np\n",
        "import pandas as pd"
      ],
      "execution_count": 339,
      "outputs": []
    },
    {
      "cell_type": "code",
      "metadata": {
        "colab": {
          "base_uri": "https://localhost:8080/",
          "height": 666
        },
        "id": "XTcUNkAWb996",
        "outputId": "498c02e8-7bfb-4558-ba3e-d80a058e4b87"
      },
      "source": [
        "news = pd.read_csv('News_Final.csv')\n",
        "news.head()"
      ],
      "execution_count": 340,
      "outputs": [
        {
          "output_type": "execute_result",
          "data": {
            "text/html": [
              "<div>\n",
              "<style scoped>\n",
              "    .dataframe tbody tr th:only-of-type {\n",
              "        vertical-align: middle;\n",
              "    }\n",
              "\n",
              "    .dataframe tbody tr th {\n",
              "        vertical-align: top;\n",
              "    }\n",
              "\n",
              "    .dataframe thead th {\n",
              "        text-align: right;\n",
              "    }\n",
              "</style>\n",
              "<table border=\"1\" class=\"dataframe\">\n",
              "  <thead>\n",
              "    <tr style=\"text-align: right;\">\n",
              "      <th></th>\n",
              "      <th>IDLink</th>\n",
              "      <th>Title</th>\n",
              "      <th>Headline</th>\n",
              "      <th>Source</th>\n",
              "      <th>Topic</th>\n",
              "      <th>PublishDate</th>\n",
              "      <th>SentimentTitle</th>\n",
              "      <th>SentimentHeadline</th>\n",
              "      <th>Facebook</th>\n",
              "      <th>GooglePlus</th>\n",
              "      <th>LinkedIn</th>\n",
              "    </tr>\n",
              "  </thead>\n",
              "  <tbody>\n",
              "    <tr>\n",
              "      <th>0</th>\n",
              "      <td>99248.0</td>\n",
              "      <td>Obama Lays Wreath at Arlington National Cemetery</td>\n",
              "      <td>Obama Lays Wreath at Arlington National Cemete...</td>\n",
              "      <td>USA TODAY</td>\n",
              "      <td>obama</td>\n",
              "      <td>2002-04-02 00:00:00</td>\n",
              "      <td>0.000000</td>\n",
              "      <td>-0.053300</td>\n",
              "      <td>-1</td>\n",
              "      <td>-1</td>\n",
              "      <td>-1</td>\n",
              "    </tr>\n",
              "    <tr>\n",
              "      <th>1</th>\n",
              "      <td>10423.0</td>\n",
              "      <td>A Look at the Health of the Chinese Economy</td>\n",
              "      <td>Tim Haywood, investment director business-unit...</td>\n",
              "      <td>Bloomberg</td>\n",
              "      <td>economy</td>\n",
              "      <td>2008-09-20 00:00:00</td>\n",
              "      <td>0.208333</td>\n",
              "      <td>-0.156386</td>\n",
              "      <td>-1</td>\n",
              "      <td>-1</td>\n",
              "      <td>-1</td>\n",
              "    </tr>\n",
              "    <tr>\n",
              "      <th>2</th>\n",
              "      <td>18828.0</td>\n",
              "      <td>Nouriel Roubini: Global Economy Not Back to 2008</td>\n",
              "      <td>Nouriel Roubini, NYU professor and chairman at...</td>\n",
              "      <td>Bloomberg</td>\n",
              "      <td>economy</td>\n",
              "      <td>2012-01-28 00:00:00</td>\n",
              "      <td>-0.425210</td>\n",
              "      <td>0.139754</td>\n",
              "      <td>-1</td>\n",
              "      <td>-1</td>\n",
              "      <td>-1</td>\n",
              "    </tr>\n",
              "    <tr>\n",
              "      <th>3</th>\n",
              "      <td>27788.0</td>\n",
              "      <td>Finland GDP Expands In Q4</td>\n",
              "      <td>Finland's economy expanded marginally in the t...</td>\n",
              "      <td>RTT News</td>\n",
              "      <td>economy</td>\n",
              "      <td>2015-03-01 00:06:00</td>\n",
              "      <td>0.000000</td>\n",
              "      <td>0.026064</td>\n",
              "      <td>-1</td>\n",
              "      <td>-1</td>\n",
              "      <td>-1</td>\n",
              "    </tr>\n",
              "    <tr>\n",
              "      <th>4</th>\n",
              "      <td>27789.0</td>\n",
              "      <td>Tourism, govt spending buoys Thai economy in J...</td>\n",
              "      <td>Tourism and public spending continued to boost...</td>\n",
              "      <td>The Nation - Thailand&amp;#39;s English news</td>\n",
              "      <td>economy</td>\n",
              "      <td>2015-03-01 00:11:00</td>\n",
              "      <td>0.000000</td>\n",
              "      <td>0.141084</td>\n",
              "      <td>-1</td>\n",
              "      <td>-1</td>\n",
              "      <td>-1</td>\n",
              "    </tr>\n",
              "  </tbody>\n",
              "</table>\n",
              "</div>"
            ],
            "text/plain": [
              "    IDLink  ... LinkedIn\n",
              "0  99248.0  ...       -1\n",
              "1  10423.0  ...       -1\n",
              "2  18828.0  ...       -1\n",
              "3  27788.0  ...       -1\n",
              "4  27789.0  ...       -1\n",
              "\n",
              "[5 rows x 11 columns]"
            ]
          },
          "metadata": {
            "tags": []
          },
          "execution_count": 340
        }
      ]
    },
    {
      "cell_type": "code",
      "metadata": {
        "id": "_Q39plujb-lK",
        "colab": {
          "base_uri": "https://localhost:8080/",
          "height": 204
        },
        "outputId": "094c1d43-e125-469d-a419-f4cf3ce94198"
      },
      "source": [
        "news = news.drop(columns=[\"IDLink\", \"Headline\", \"Source\", \"Topic\", \"PublishDate\", \"SentimentHeadline\", \"Facebook\", \"GooglePlus\", \"LinkedIn\"])\n",
        "news.head()"
      ],
      "execution_count": 341,
      "outputs": [
        {
          "output_type": "execute_result",
          "data": {
            "text/html": [
              "<div>\n",
              "<style scoped>\n",
              "    .dataframe tbody tr th:only-of-type {\n",
              "        vertical-align: middle;\n",
              "    }\n",
              "\n",
              "    .dataframe tbody tr th {\n",
              "        vertical-align: top;\n",
              "    }\n",
              "\n",
              "    .dataframe thead th {\n",
              "        text-align: right;\n",
              "    }\n",
              "</style>\n",
              "<table border=\"1\" class=\"dataframe\">\n",
              "  <thead>\n",
              "    <tr style=\"text-align: right;\">\n",
              "      <th></th>\n",
              "      <th>Title</th>\n",
              "      <th>SentimentTitle</th>\n",
              "    </tr>\n",
              "  </thead>\n",
              "  <tbody>\n",
              "    <tr>\n",
              "      <th>0</th>\n",
              "      <td>Obama Lays Wreath at Arlington National Cemetery</td>\n",
              "      <td>0.000000</td>\n",
              "    </tr>\n",
              "    <tr>\n",
              "      <th>1</th>\n",
              "      <td>A Look at the Health of the Chinese Economy</td>\n",
              "      <td>0.208333</td>\n",
              "    </tr>\n",
              "    <tr>\n",
              "      <th>2</th>\n",
              "      <td>Nouriel Roubini: Global Economy Not Back to 2008</td>\n",
              "      <td>-0.425210</td>\n",
              "    </tr>\n",
              "    <tr>\n",
              "      <th>3</th>\n",
              "      <td>Finland GDP Expands In Q4</td>\n",
              "      <td>0.000000</td>\n",
              "    </tr>\n",
              "    <tr>\n",
              "      <th>4</th>\n",
              "      <td>Tourism, govt spending buoys Thai economy in J...</td>\n",
              "      <td>0.000000</td>\n",
              "    </tr>\n",
              "  </tbody>\n",
              "</table>\n",
              "</div>"
            ],
            "text/plain": [
              "                                               Title  SentimentTitle\n",
              "0   Obama Lays Wreath at Arlington National Cemetery        0.000000\n",
              "1        A Look at the Health of the Chinese Economy        0.208333\n",
              "2   Nouriel Roubini: Global Economy Not Back to 2008       -0.425210\n",
              "3                          Finland GDP Expands In Q4        0.000000\n",
              "4  Tourism, govt spending buoys Thai economy in J...        0.000000"
            ]
          },
          "metadata": {
            "tags": []
          },
          "execution_count": 341
        }
      ]
    },
    {
      "cell_type": "code",
      "metadata": {
        "id": "8DmCTyJ5FAak"
      },
      "source": [
        "# bestNews = news[news[\"SentimentTitle\"] == 1]\n",
        "# for i in np.array(bestNews['Title']):\n",
        "#   print(i)\n",
        "# news['SentimentHeadline'][2]"
      ],
      "execution_count": 342,
      "outputs": []
    },
    {
      "cell_type": "code",
      "metadata": {
        "colab": {
          "base_uri": "https://localhost:8080/"
        },
        "id": "hWHTspjMGkkZ",
        "outputId": "4f1537e4-aa3a-409e-a857-bad11b43009e"
      },
      "source": [
        "for i in range(len(news['SentimentTitle'])):\n",
        "  if news['SentimentTitle'][i] >= 0.0:\n",
        "    news['SentimentTitle'][i] = 1.0\n",
        "  # elif news['SentimentTitle'][i] < 0.25 and news['SentimentTitle'][i] > -0.25:\n",
        "  #   news['SentimentTitle'][i] = 0.0\n",
        "  else:\n",
        "    news['SentimentTitle'][i] = 0.0\n",
        "news['SentimentTitle'] = news['SentimentTitle'].astype(int, errors='ignore')"
      ],
      "execution_count": 343,
      "outputs": [
        {
          "output_type": "stream",
          "text": [
            "/usr/local/lib/python3.7/dist-packages/ipykernel_launcher.py:3: SettingWithCopyWarning: \n",
            "A value is trying to be set on a copy of a slice from a DataFrame\n",
            "\n",
            "See the caveats in the documentation: https://pandas.pydata.org/pandas-docs/stable/user_guide/indexing.html#returning-a-view-versus-a-copy\n",
            "  This is separate from the ipykernel package so we can avoid doing imports until\n",
            "/usr/local/lib/python3.7/dist-packages/ipykernel_launcher.py:7: SettingWithCopyWarning: \n",
            "A value is trying to be set on a copy of a slice from a DataFrame\n",
            "\n",
            "See the caveats in the documentation: https://pandas.pydata.org/pandas-docs/stable/user_guide/indexing.html#returning-a-view-versus-a-copy\n",
            "  import sys\n"
          ],
          "name": "stderr"
        }
      ]
    },
    {
      "cell_type": "code",
      "metadata": {
        "colab": {
          "base_uri": "https://localhost:8080/",
          "height": 204
        },
        "id": "HKNlpVYXHMXk",
        "outputId": "986ed0a5-df1a-4094-9bfa-816b004feccb"
      },
      "source": [
        "news.tail()"
      ],
      "execution_count": 344,
      "outputs": [
        {
          "output_type": "execute_result",
          "data": {
            "text/html": [
              "<div>\n",
              "<style scoped>\n",
              "    .dataframe tbody tr th:only-of-type {\n",
              "        vertical-align: middle;\n",
              "    }\n",
              "\n",
              "    .dataframe tbody tr th {\n",
              "        vertical-align: top;\n",
              "    }\n",
              "\n",
              "    .dataframe thead th {\n",
              "        text-align: right;\n",
              "    }\n",
              "</style>\n",
              "<table border=\"1\" class=\"dataframe\">\n",
              "  <thead>\n",
              "    <tr style=\"text-align: right;\">\n",
              "      <th></th>\n",
              "      <th>Title</th>\n",
              "      <th>SentimentTitle</th>\n",
              "    </tr>\n",
              "  </thead>\n",
              "  <tbody>\n",
              "    <tr>\n",
              "      <th>93234</th>\n",
              "      <td>Stocks rise as investors key in on US economy ...</td>\n",
              "      <td>1</td>\n",
              "    </tr>\n",
              "    <tr>\n",
              "      <th>93235</th>\n",
              "      <td>Russian PM proposes to use conservative and to...</td>\n",
              "      <td>1</td>\n",
              "    </tr>\n",
              "    <tr>\n",
              "      <th>93236</th>\n",
              "      <td>Palestinian Government Uses Foreign Aid To Pay...</td>\n",
              "      <td>1</td>\n",
              "    </tr>\n",
              "    <tr>\n",
              "      <th>93237</th>\n",
              "      <td>Palestine Youth Orchestra prepares for first U...</td>\n",
              "      <td>1</td>\n",
              "    </tr>\n",
              "    <tr>\n",
              "      <th>93238</th>\n",
              "      <td>Sausalito businesswoman wins $10000 in Microso...</td>\n",
              "      <td>1</td>\n",
              "    </tr>\n",
              "  </tbody>\n",
              "</table>\n",
              "</div>"
            ],
            "text/plain": [
              "                                                   Title  SentimentTitle\n",
              "93234  Stocks rise as investors key in on US economy ...               1\n",
              "93235  Russian PM proposes to use conservative and to...               1\n",
              "93236  Palestinian Government Uses Foreign Aid To Pay...               1\n",
              "93237  Palestine Youth Orchestra prepares for first U...               1\n",
              "93238  Sausalito businesswoman wins $10000 in Microso...               1"
            ]
          },
          "metadata": {
            "tags": []
          },
          "execution_count": 344
        }
      ]
    },
    {
      "cell_type": "code",
      "metadata": {
        "colab": {
          "base_uri": "https://localhost:8080/"
        },
        "id": "3cdVI-KCepBb",
        "outputId": "820c0542-8772-45a0-83c0-904138b33325"
      },
      "source": [
        "sentimentArr = np.array(pd.Series(news['SentimentTitle']))\n",
        "headlineArr = np.array(pd.Series(news['Title']))\n",
        "sentimentArr"
      ],
      "execution_count": 345,
      "outputs": [
        {
          "output_type": "execute_result",
          "data": {
            "text/plain": [
              "array([1, 1, 0, ..., 1, 1, 1])"
            ]
          },
          "metadata": {
            "tags": []
          },
          "execution_count": 345
        }
      ]
    },
    {
      "cell_type": "code",
      "metadata": {
        "colab": {
          "base_uri": "https://localhost:8080/"
        },
        "id": "OH054sHofi6g",
        "outputId": "d55ffaf5-ef36-47ef-8d51-6e3dd78bb445"
      },
      "source": [
        "print(\"Max: \", np.amax(sentimentArr), \", Min: \", np.amin(sentimentArr))"
      ],
      "execution_count": 346,
      "outputs": [
        {
          "output_type": "stream",
          "text": [
            "Max:  1 , Min:  0\n"
          ],
          "name": "stdout"
        }
      ]
    },
    {
      "cell_type": "code",
      "metadata": {
        "id": "VBitzuhTft-a"
      },
      "source": [
        "from sklearn.model_selection import train_test_split\n",
        "import seaborn as sns\n",
        "import matplotlib.pyplot as plt\n",
        "%matplotlib inline"
      ],
      "execution_count": 347,
      "outputs": []
    },
    {
      "cell_type": "code",
      "metadata": {
        "id": "Z3zpocqhjLQa"
      },
      "source": [
        "X_train, X_test, y_train, y_test = train_test_split(news['Title'], news['SentimentTitle'], test_size=0.33)"
      ],
      "execution_count": 348,
      "outputs": []
    },
    {
      "cell_type": "markdown",
      "metadata": {
        "id": "mshHoniSgYsH"
      },
      "source": [
        "#Model Training"
      ]
    },
    {
      "cell_type": "code",
      "metadata": {
        "colab": {
          "base_uri": "https://localhost:8080/"
        },
        "id": "qkFtoXk94dFo",
        "outputId": "7b6d8e14-30e2-4756-e8f0-08a78d5378d7"
      },
      "source": [
        "!nvidia-smi"
      ],
      "execution_count": 349,
      "outputs": [
        {
          "output_type": "stream",
          "text": [
            "Thu Jul 29 03:51:42 2021       \n",
            "+-----------------------------------------------------------------------------+\n",
            "| NVIDIA-SMI 470.42.01    Driver Version: 460.32.03    CUDA Version: 11.2     |\n",
            "|-------------------------------+----------------------+----------------------+\n",
            "| GPU  Name        Persistence-M| Bus-Id        Disp.A | Volatile Uncorr. ECC |\n",
            "| Fan  Temp  Perf  Pwr:Usage/Cap|         Memory-Usage | GPU-Util  Compute M. |\n",
            "|                               |                      |               MIG M. |\n",
            "|===============================+======================+======================|\n",
            "|   0  Tesla T4            Off  | 00000000:00:04.0 Off |                    0 |\n",
            "| N/A   50C    P0    27W /  70W |    382MiB / 15109MiB |      0%      Default |\n",
            "|                               |                      |                  N/A |\n",
            "+-------------------------------+----------------------+----------------------+\n",
            "                                                                               \n",
            "+-----------------------------------------------------------------------------+\n",
            "| Processes:                                                                  |\n",
            "|  GPU   GI   CI        PID   Type   Process name                  GPU Memory |\n",
            "|        ID   ID                                                   Usage      |\n",
            "|=============================================================================|\n",
            "|  No running processes found                                                 |\n",
            "+-----------------------------------------------------------------------------+\n"
          ],
          "name": "stdout"
        }
      ]
    },
    {
      "cell_type": "code",
      "metadata": {
        "id": "8dCXUipKgpvt"
      },
      "source": [
        "import tensorflow as tf\n",
        "from tensorflow.keras.preprocessing.text import Tokenizer\n",
        "from tensorflow.keras.preprocessing.sequence import pad_sequences\n",
        "tokenizer = Tokenizer(oov_token=\"<OOV>\")"
      ],
      "execution_count": 350,
      "outputs": []
    },
    {
      "cell_type": "code",
      "metadata": {
        "id": "nTdW2wwGlMC6"
      },
      "source": [
        "vocab_size = 40000\n",
        "embedding_dim = 16\n",
        "max_length = 120\n",
        "trunc_type = 'post'\n",
        "oov_tok = '<OOV>'\n",
        "padding_type = 'post'"
      ],
      "execution_count": 351,
      "outputs": []
    },
    {
      "cell_type": "code",
      "metadata": {
        "id": "ApPYJ0WJm42A"
      },
      "source": [
        "training_sentences = []\n",
        "testing_sentences = []\n",
        "\n",
        "for i in X_train:\n",
        "    training_sentences.append(str(i))\n",
        "for i in X_test:\n",
        "    testing_sentences.append(str(i))"
      ],
      "execution_count": 352,
      "outputs": []
    },
    {
      "cell_type": "code",
      "metadata": {
        "id": "bpRuWJUKl8a5"
      },
      "source": [
        "tokenizer = Tokenizer(num_words=vocab_size, oov_token=oov_tok)\n",
        "tokenizer.fit_on_texts(training_sentences)\n",
        "word_index = tokenizer.word_index"
      ],
      "execution_count": 353,
      "outputs": []
    },
    {
      "cell_type": "code",
      "metadata": {
        "id": "_1NQAHlYm0yZ"
      },
      "source": [
        "sequences = tokenizer.texts_to_sequences(training_sentences)\n",
        "padded = pad_sequences(sequences, maxlen=max_length, truncating=trunc_type)\n",
        "testing_sentences = tokenizer.texts_to_sequences(testing_sentences)\n",
        "testing_padded = pad_sequences(testing_sentences, maxlen=max_length)"
      ],
      "execution_count": 354,
      "outputs": []
    },
    {
      "cell_type": "code",
      "metadata": {
        "id": "a3a34yu0neIi"
      },
      "source": [
        "model = tf.keras.Sequential([\n",
        "    tf.keras.layers.Embedding(vocab_size, embedding_dim,       input_length=max_length),\n",
        "    tf.keras.layers.GlobalAveragePooling1D(),\n",
        "    tf.keras.layers.Dense(6, activation='relu'),\n",
        "    tf.keras.layers.Dense(1, activation='sigmoid')\n",
        "])"
      ],
      "execution_count": 355,
      "outputs": []
    },
    {
      "cell_type": "code",
      "metadata": {
        "id": "5jclEnIIniYP"
      },
      "source": [
        "model.compile(loss='binary_crossentropy', optimizer='adam', metrics=['accuracy'])"
      ],
      "execution_count": 356,
      "outputs": []
    },
    {
      "cell_type": "code",
      "metadata": {
        "colab": {
          "base_uri": "https://localhost:8080/"
        },
        "id": "E65L6ihynoCN",
        "outputId": "9c31128e-5666-4f56-84ae-0287b2775d06"
      },
      "source": [
        "model.summary()"
      ],
      "execution_count": 357,
      "outputs": [
        {
          "output_type": "stream",
          "text": [
            "Model: \"sequential_12\"\n",
            "_________________________________________________________________\n",
            "Layer (type)                 Output Shape              Param #   \n",
            "=================================================================\n",
            "embedding_12 (Embedding)     (None, 120, 16)           640000    \n",
            "_________________________________________________________________\n",
            "global_average_pooling1d_12  (None, 16)                0         \n",
            "_________________________________________________________________\n",
            "dense_24 (Dense)             (None, 6)                 102       \n",
            "_________________________________________________________________\n",
            "dense_25 (Dense)             (None, 1)                 7         \n",
            "=================================================================\n",
            "Total params: 640,109\n",
            "Trainable params: 640,109\n",
            "Non-trainable params: 0\n",
            "_________________________________________________________________\n"
          ],
          "name": "stdout"
        }
      ]
    },
    {
      "cell_type": "code",
      "metadata": {
        "id": "wXCBJz7yp8-N"
      },
      "source": [
        "training_labels_final = np.array(y_train)\n",
        "testing_labels_final = np.array(y_test)"
      ],
      "execution_count": 358,
      "outputs": []
    },
    {
      "cell_type": "code",
      "metadata": {
        "colab": {
          "base_uri": "https://localhost:8080/"
        },
        "id": "K0xNAp9UJf-c",
        "outputId": "af589004-16bb-4e7e-86ed-3a85f7ab1e6f"
      },
      "source": [
        "model.fit(padded, training_labels_final, epochs=7, validation_data=(testing_padded, testing_labels_final))"
      ],
      "execution_count": 359,
      "outputs": [
        {
          "output_type": "stream",
          "text": [
            "Epoch 1/7\n",
            "1953/1953 [==============================] - 18s 9ms/step - loss: 0.6621 - accuracy: 0.6014 - val_loss: 0.6025 - val_accuracy: 0.7741\n",
            "Epoch 2/7\n",
            "1953/1953 [==============================] - 17s 9ms/step - loss: 0.4737 - accuracy: 0.7947 - val_loss: 0.4122 - val_accuracy: 0.8212\n",
            "Epoch 3/7\n",
            "1953/1953 [==============================] - 18s 9ms/step - loss: 0.3525 - accuracy: 0.8616 - val_loss: 0.3613 - val_accuracy: 0.8536\n",
            "Epoch 4/7\n",
            "1953/1953 [==============================] - 16s 8ms/step - loss: 0.2972 - accuracy: 0.8903 - val_loss: 0.3596 - val_accuracy: 0.8613\n",
            "Epoch 5/7\n",
            "1953/1953 [==============================] - 17s 9ms/step - loss: 0.2605 - accuracy: 0.9082 - val_loss: 0.3285 - val_accuracy: 0.8701\n",
            "Epoch 6/7\n",
            "1953/1953 [==============================] - 18s 9ms/step - loss: 0.2344 - accuracy: 0.9200 - val_loss: 0.3497 - val_accuracy: 0.8585\n",
            "Epoch 7/7\n",
            "1953/1953 [==============================] - 18s 9ms/step - loss: 0.2144 - accuracy: 0.9286 - val_loss: 0.3140 - val_accuracy: 0.8818\n"
          ],
          "name": "stdout"
        },
        {
          "output_type": "execute_result",
          "data": {
            "text/plain": [
              "<tensorflow.python.keras.callbacks.History at 0x7f2754e07390>"
            ]
          },
          "metadata": {
            "tags": []
          },
          "execution_count": 359
        }
      ]
    },
    {
      "cell_type": "markdown",
      "metadata": {
        "id": "MNAEiE1Eafto"
      },
      "source": [
        "#Testing"
      ]
    },
    {
      "cell_type": "code",
      "metadata": {
        "id": "RGfvIQ68Zomo"
      },
      "source": [
        "def modelFunc(prompt: str):\n",
        "  arr = [prompt]\n",
        "  arrtokens = tokenizer.texts_to_sequences(arr)\n",
        "  newarr = pad_sequences(arrtokens, maxlen=max_length, truncating=trunc_type)\n",
        "  result = model.predict(newarr)\n",
        "  if result >= 0.5:\n",
        "    return 1\n",
        "  else:\n",
        "    return 0"
      ],
      "execution_count": 365,
      "outputs": []
    },
    {
      "cell_type": "code",
      "metadata": {
        "colab": {
          "base_uri": "https://localhost:8080/"
        },
        "id": "C6JMRfqrTtZC",
        "outputId": "6502f55e-712a-4e30-b7e5-fc907af6649c"
      },
      "source": [
        "import time\n",
        "def populateList(link: str, requests: int, after: str, count: int):\n",
        "  print(requests)\n",
        "  if requests > 0:\n",
        "    headlines = []\n",
        "    if after == \"\" and count == 0:\n",
        "      df = pd.read_json(link)\n",
        "    else:\n",
        "      df = pd.read_json(link + \"&after=\" + after + \"&count=\" + str(count))\n",
        "      print(link + \"?after=\" + after + \"?count=\" + str(count))\n",
        "    for i in range (0, df['data']['dist']):\n",
        "      headlines.append(df['data']['children'][i]['data']['title']) \n",
        "    time.sleep(10)\n",
        "    for item in populateList(link, requests - 1, df['data']['after'], int(df['data']['dist'])+count):\n",
        "      headlines.append(item)\n",
        "    res = []\n",
        "    for i in headlines:\n",
        "      if i not in res:\n",
        "        res.append(i)\n",
        "    return res\n",
        "  else:\n",
        "    return []\n",
        "headlinesPositive = populateList(\"https://www.reddit.com/r/UpliftingNews/hot/.json?limit=100\", 1, \"\", 0)"
      ],
      "execution_count": 361,
      "outputs": [
        {
          "output_type": "stream",
          "text": [
            "1\n",
            "0\n"
          ],
          "name": "stdout"
        }
      ]
    },
    {
      "cell_type": "code",
      "metadata": {
        "colab": {
          "base_uri": "https://localhost:8080/"
        },
        "id": "r_q4QY44WL5K",
        "outputId": "4a507d81-1381-4c20-d22f-51c89bef189a"
      },
      "source": [
        "veryPositive = []\n",
        "for i in headlinesPositive:\n",
        "  result = modelFunc(prompt=i)\n",
        "  if result >= 0.5:\n",
        "    result = 1.0\n",
        "    print(i)\n",
        "    veryPositive.append(i)\n",
        "  else:\n",
        "    result = 0.0\n",
        "  int(result)"
      ],
      "execution_count": 366,
      "outputs": [
        {
          "output_type": "stream",
          "text": [
            "\"This isn't uplifting!\"\n",
            "Last privately-owned, undeveloped barrier island on NC coast is now protected forever\n",
            "‘South Park’ Creators Aim to Buy Bankrupt Casa Bonita, Restaurant Featured in Show\n",
            "BioNTech to develop mRNA malaria vaccine; potentially saving 100's of thousands of lives per year\n",
            "Bob Odenkirk In Stable Condition After “Heart Related Incident” On ‘Better Call Saul’ Set, Says Rep\n",
            "Oregon governor signs ambitious clean energy bill. According to the governor's office it sets an \"aggressive timeline\" for moving to 100% clean electricity sources by 2040\n",
            "The ‘world’s most powerful tidal turbine’ starts to export power to the grid\n",
            "Renewables now half the price of fossil fuels across Europe, says report\n",
            "Blink-182’s Mark Hoppus Felt Well Enough To Play Bass For The First Time Since His Cancer Diagnosis\n",
            "Walmart to pay for 100% of college tuition, books for employees\n",
            "A birthday gift: Israeli woman donates kidney to Gaza boy\n",
            "Israel, UAE to swap kidneys in historic life-saving operation\n",
            "Instead of retiring, an optometrist who spent 40+ years helping others see more clearly continues to give back. “I’ve practiced in Paintsville, Kentucky most of my life. I was there for 45 years,” said Dr. Kenneth Cottrell. Kenneth spends his time volunteering, using his specialty to help others.\n",
            "Startup receives $75 million in funding to develop canine DNA database with a goal to help dogs gain healthier and longer lives. “It’s been a labor of love\"\n",
            "Winning judo silver in Tokyo, Iranian defector Mollaei dedicates medal to Israel\n",
            "Wales' slate landscape wins World Heritage status\n",
            "Santa Barbara Humane finds new home for Deaf Dog and Bonded Companion, both senior dogs.\n",
            "From Seed to Market: NASA Brings Food to the Table\n",
            "Charity starts “good deed challenge” paying $1 million for good deeds posted on social media, $40,000 paid to man who helps the homeless\n",
            "Bermuda wins its first-ever Olympic gold after nearly 100 years of trying\n",
            "Luke Combs Pays for Funerals of Fans Who Died at Faster Horses Festival\n",
            "The Philippines Wins Its First-Ever Olympic Gold, After Nearly 100 Years Of Trying\n",
            "Pink offers to pay the fine for Norwegian women’s handball team\n",
            "Navajo Nation: No COVID-related deaths, 7th time in 9 days\n",
            "22 year old grad student at shanghai University launched a collaborative spreadsheet to help coordinate help for victims of recent henan flooding\n",
            "German gymnastics team, tired of 'sexualisation,' covers up in unitards\n",
            "Father builds exoskeleton to help wheelchair-bound son walk\n",
            "Missouri Realtor Transforms Abandoned Properties Into Tiny Home Villages That Give Permanent Housing To Chronic Homeless\n",
            "Florida startup treating illness with magic mushrooms receives $2.5 million\n",
            "Bob Marley’s Widow Rita Marley, Announces New Scholarship To Empower Women Of Lower Middle Class On Her 75th Birthday\n",
            "Feds approve Vancouver psychedelics company's trial use of ecstasy to treat PTSD\n",
            "Samoa now has it's first female prime minister\n",
            "In scientific first, brain implant turns paralyzed man’s thoughts into ‘speech’\n",
            "Artificial Heart Prosthetic Implant Successful in 39-Year Old First-Ever US Patient\n",
            "Famous basketball player keeps his glasses on the court after learning he inspires young kids who wear eyeglasses too - though having fixed his vision.\n",
            "Australia sets new wind output record, breaks through 6,000MW for first time\n",
            "New York City Mental Health Response Teams Show Better Results Than Police\n",
            "BBC News: Climate change: Hebden Bridge boy, 11, starts 200 mile walk\n",
            "Tennessee resumes most vaccine outreach to minors paused after GOP backlash\n",
            "Thousands join Budapest Pride march against anti-LGBTQ law\n",
            "France bans crushing and gassing of male chicks from 2022\n",
            "The Senate’s E-BIKE Act could make electric bikes a lot cheaper\n",
            "Aviation enthusiast potentially saves pilot's life after seeing sparks coming from his plane\n",
            "After his sister's death, tech entrepreneur works to help patients communicate their health history\n",
            "First domestic abuse shelter for men opens in Australia\n",
            "'People are just walking out in the middle of shifts': What it's like to work in a restaurant right now\n",
            "‘Mighty Ducks’ actor Shaun Weiss graduates from Yuba drug court program, gets case dropped\n",
            "El Pinto waiter recognized for saving woman's life\n",
            "Sha’Carri Richardson trending after Megan Rapinoe speaks about using CBD in the training regimen\n",
            "Ever wonder what your adopted dog looked like as a puppy? This rescue shelter is \"Turning Bark Time\" to show you.\n",
            "Two critically endangered California condor nests spotted near Zion National Park. It's the first time biologists saw multiple condor nests in the same breeding season.\n",
            "DURING AN OPEN commission meeting Wednesday, the Federal Trade Commission voted unanimously to enforce laws around the Right to Repair, thereby ensuring that US consumers will be able to repair their own electronic and automotive devices.\n",
            "Beloved piano player at Atlanta airport gifted $60K from complete strangers\n",
            "\"I was reborn aged 102,\" - Russian WW2 veteran beats COVID-19 after week in ICU\n",
            "NYC’s Non-Police Mental Health Pilot Increasing Rate of Those Getting Aid, Data Show\n",
            "Terrier Lost While on Vacation For 290 Days is Found Through Social Media\n",
            "PG&amp;E Will Bury 10,000 Miles of Power Lines So They Don't Spark Wildfires\n",
            "The Magic Ingredients For Innovative Batteries? Humble Rust And Salt\n",
            "Britney Spears’ fight to end her conservatorship will benefit the lives of elderly and disabled individuals similarly abused\n",
            "Maine Makes U.S. Recycling Actually Work Again\n",
            "Great News for Ancient Forests and Climate: Tongass Protections Restored\n"
          ],
          "name": "stdout"
        }
      ]
    },
    {
      "cell_type": "code",
      "metadata": {
        "colab": {
          "base_uri": "https://localhost:8080/"
        },
        "id": "uT0euV2NWYoX",
        "outputId": "1e7b7ed1-ba2b-4e2f-afcc-0c53904aabdb"
      },
      "source": [
        "len(veryPositive)"
      ],
      "execution_count": 367,
      "outputs": [
        {
          "output_type": "execute_result",
          "data": {
            "text/plain": [
              "61"
            ]
          },
          "metadata": {
            "tags": []
          },
          "execution_count": 367
        }
      ]
    },
    {
      "cell_type": "code",
      "metadata": {
        "colab": {
          "base_uri": "https://localhost:8080/"
        },
        "id": "GqI7l2yXWfwY",
        "outputId": "6d279b06-abf3-4445-e1ea-cc5071a8a831"
      },
      "source": [
        "modelFunc(\"PROMPT\")"
      ],
      "execution_count": 375,
      "outputs": [
        {
          "output_type": "execute_result",
          "data": {
            "text/plain": [
              "1"
            ]
          },
          "metadata": {
            "tags": []
          },
          "execution_count": 375
        }
      ]
    },
    {
      "cell_type": "code",
      "metadata": {
        "id": "275H66vJaGn2"
      },
      "source": [
        ""
      ],
      "execution_count": null,
      "outputs": []
    }
  ]
}